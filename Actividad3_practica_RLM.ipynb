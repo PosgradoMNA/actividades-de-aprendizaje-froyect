{
  "nbformat": 4,
  "nbformat_minor": 0,
  "metadata": {
    "colab": {
      "provenance": [],
      "collapsed_sections": [],
      "authorship_tag": "ABX9TyMd2YsZ+sIseOqY+Wc6kgAL",
      "include_colab_link": true
    },
    "kernelspec": {
      "name": "python3",
      "display_name": "Python 3"
    },
    "language_info": {
      "name": "python"
    }
  },
  "cells": [
    {
      "cell_type": "markdown",
      "metadata": {
        "id": "view-in-github",
        "colab_type": "text"
      },
      "source": [
        "<a href=\"https://colab.research.google.com/github/PosgradoMNA/actividades-de-aprendizaje-froyect/blob/main/Actividad3_practica_RLM.ipynb\" target=\"_parent\"><img src=\"https://colab.research.google.com/assets/colab-badge.svg\" alt=\"Open In Colab\"/></a>"
      ]
    },
    {
      "cell_type": "code",
      "execution_count": 6,
      "metadata": {
        "id": "ZyLm0WlvAT-x"
      },
      "outputs": [],
      "source": [
        "# Librerías básicas que estaremos requiriendo en la mayoría de las actividades. \n",
        "# Recuerda usar el # para documentar tu código dentro de estas celdas de Código.\n",
        "\n",
        "import numpy as np\n",
        "import pandas as pd\n",
        "import matplotlib.pyplot as plt \n",
        "import seaborn as sns   # para un mejor despliegue de los gráficos"
      ]
    },
    {
      "cell_type": "code",
      "source": [
        "!ls"
      ],
      "metadata": {
        "colab": {
          "base_uri": "https://localhost:8080/"
        },
        "id": "vDajZFNCA099",
        "outputId": "c4476614-c1ac-494d-c17a-052456baa9b4"
      },
      "execution_count": null,
      "outputs": [
        {
          "output_type": "stream",
          "name": "stdout",
          "text": [
            "sample_data\n"
          ]
        }
      ]
    },
    {
      "cell_type": "code",
      "source": [
        "%cd sample_data/\n",
        "\n",
        "!ls"
      ],
      "metadata": {
        "colab": {
          "base_uri": "https://localhost:8080/"
        },
        "id": "qImlFETwA4We",
        "outputId": "02e7852c-a9e4-443a-8609-85a5aa593f75"
      },
      "execution_count": 4,
      "outputs": [
        {
          "output_type": "stream",
          "name": "stdout",
          "text": [
            "/content/sample_data\n",
            "anscombe.json\t\t      mnist_test.csv\n",
            "california_housing_test.csv   mnist_train_small.csv\n",
            "california_housing_train.csv  README.md\n"
          ]
        }
      ]
    },
    {
      "cell_type": "code",
      "source": [
        "datatrain = pd.read_csv(\"california_housing_train.csv\", sep=\",\")\n",
        "datatrain.head()"
      ],
      "metadata": {
        "colab": {
          "base_uri": "https://localhost:8080/",
          "height": 206
        },
        "id": "Vev7jCGlA8OM",
        "outputId": "79b0b6d3-c02e-4a03-b4d3-69ff7f489ea4"
      },
      "execution_count": 7,
      "outputs": [
        {
          "output_type": "execute_result",
          "data": {
            "text/plain": [
              "   longitude  latitude  housing_median_age  total_rooms  total_bedrooms  \\\n",
              "0    -114.31     34.19                15.0       5612.0          1283.0   \n",
              "1    -114.47     34.40                19.0       7650.0          1901.0   \n",
              "2    -114.56     33.69                17.0        720.0           174.0   \n",
              "3    -114.57     33.64                14.0       1501.0           337.0   \n",
              "4    -114.57     33.57                20.0       1454.0           326.0   \n",
              "\n",
              "   population  households  median_income  median_house_value  \n",
              "0      1015.0       472.0         1.4936             66900.0  \n",
              "1      1129.0       463.0         1.8200             80100.0  \n",
              "2       333.0       117.0         1.6509             85700.0  \n",
              "3       515.0       226.0         3.1917             73400.0  \n",
              "4       624.0       262.0         1.9250             65500.0  "
            ],
            "text/html": [
              "\n",
              "  <div id=\"df-7812504c-9214-4b21-84b2-4c021700da67\">\n",
              "    <div class=\"colab-df-container\">\n",
              "      <div>\n",
              "<style scoped>\n",
              "    .dataframe tbody tr th:only-of-type {\n",
              "        vertical-align: middle;\n",
              "    }\n",
              "\n",
              "    .dataframe tbody tr th {\n",
              "        vertical-align: top;\n",
              "    }\n",
              "\n",
              "    .dataframe thead th {\n",
              "        text-align: right;\n",
              "    }\n",
              "</style>\n",
              "<table border=\"1\" class=\"dataframe\">\n",
              "  <thead>\n",
              "    <tr style=\"text-align: right;\">\n",
              "      <th></th>\n",
              "      <th>longitude</th>\n",
              "      <th>latitude</th>\n",
              "      <th>housing_median_age</th>\n",
              "      <th>total_rooms</th>\n",
              "      <th>total_bedrooms</th>\n",
              "      <th>population</th>\n",
              "      <th>households</th>\n",
              "      <th>median_income</th>\n",
              "      <th>median_house_value</th>\n",
              "    </tr>\n",
              "  </thead>\n",
              "  <tbody>\n",
              "    <tr>\n",
              "      <th>0</th>\n",
              "      <td>-114.31</td>\n",
              "      <td>34.19</td>\n",
              "      <td>15.0</td>\n",
              "      <td>5612.0</td>\n",
              "      <td>1283.0</td>\n",
              "      <td>1015.0</td>\n",
              "      <td>472.0</td>\n",
              "      <td>1.4936</td>\n",
              "      <td>66900.0</td>\n",
              "    </tr>\n",
              "    <tr>\n",
              "      <th>1</th>\n",
              "      <td>-114.47</td>\n",
              "      <td>34.40</td>\n",
              "      <td>19.0</td>\n",
              "      <td>7650.0</td>\n",
              "      <td>1901.0</td>\n",
              "      <td>1129.0</td>\n",
              "      <td>463.0</td>\n",
              "      <td>1.8200</td>\n",
              "      <td>80100.0</td>\n",
              "    </tr>\n",
              "    <tr>\n",
              "      <th>2</th>\n",
              "      <td>-114.56</td>\n",
              "      <td>33.69</td>\n",
              "      <td>17.0</td>\n",
              "      <td>720.0</td>\n",
              "      <td>174.0</td>\n",
              "      <td>333.0</td>\n",
              "      <td>117.0</td>\n",
              "      <td>1.6509</td>\n",
              "      <td>85700.0</td>\n",
              "    </tr>\n",
              "    <tr>\n",
              "      <th>3</th>\n",
              "      <td>-114.57</td>\n",
              "      <td>33.64</td>\n",
              "      <td>14.0</td>\n",
              "      <td>1501.0</td>\n",
              "      <td>337.0</td>\n",
              "      <td>515.0</td>\n",
              "      <td>226.0</td>\n",
              "      <td>3.1917</td>\n",
              "      <td>73400.0</td>\n",
              "    </tr>\n",
              "    <tr>\n",
              "      <th>4</th>\n",
              "      <td>-114.57</td>\n",
              "      <td>33.57</td>\n",
              "      <td>20.0</td>\n",
              "      <td>1454.0</td>\n",
              "      <td>326.0</td>\n",
              "      <td>624.0</td>\n",
              "      <td>262.0</td>\n",
              "      <td>1.9250</td>\n",
              "      <td>65500.0</td>\n",
              "    </tr>\n",
              "  </tbody>\n",
              "</table>\n",
              "</div>\n",
              "      <button class=\"colab-df-convert\" onclick=\"convertToInteractive('df-7812504c-9214-4b21-84b2-4c021700da67')\"\n",
              "              title=\"Convert this dataframe to an interactive table.\"\n",
              "              style=\"display:none;\">\n",
              "        \n",
              "  <svg xmlns=\"http://www.w3.org/2000/svg\" height=\"24px\"viewBox=\"0 0 24 24\"\n",
              "       width=\"24px\">\n",
              "    <path d=\"M0 0h24v24H0V0z\" fill=\"none\"/>\n",
              "    <path d=\"M18.56 5.44l.94 2.06.94-2.06 2.06-.94-2.06-.94-.94-2.06-.94 2.06-2.06.94zm-11 1L8.5 8.5l.94-2.06 2.06-.94-2.06-.94L8.5 2.5l-.94 2.06-2.06.94zm10 10l.94 2.06.94-2.06 2.06-.94-2.06-.94-.94-2.06-.94 2.06-2.06.94z\"/><path d=\"M17.41 7.96l-1.37-1.37c-.4-.4-.92-.59-1.43-.59-.52 0-1.04.2-1.43.59L10.3 9.45l-7.72 7.72c-.78.78-.78 2.05 0 2.83L4 21.41c.39.39.9.59 1.41.59.51 0 1.02-.2 1.41-.59l7.78-7.78 2.81-2.81c.8-.78.8-2.07 0-2.86zM5.41 20L4 18.59l7.72-7.72 1.47 1.35L5.41 20z\"/>\n",
              "  </svg>\n",
              "      </button>\n",
              "      \n",
              "  <style>\n",
              "    .colab-df-container {\n",
              "      display:flex;\n",
              "      flex-wrap:wrap;\n",
              "      gap: 12px;\n",
              "    }\n",
              "\n",
              "    .colab-df-convert {\n",
              "      background-color: #E8F0FE;\n",
              "      border: none;\n",
              "      border-radius: 50%;\n",
              "      cursor: pointer;\n",
              "      display: none;\n",
              "      fill: #1967D2;\n",
              "      height: 32px;\n",
              "      padding: 0 0 0 0;\n",
              "      width: 32px;\n",
              "    }\n",
              "\n",
              "    .colab-df-convert:hover {\n",
              "      background-color: #E2EBFA;\n",
              "      box-shadow: 0px 1px 2px rgba(60, 64, 67, 0.3), 0px 1px 3px 1px rgba(60, 64, 67, 0.15);\n",
              "      fill: #174EA6;\n",
              "    }\n",
              "\n",
              "    [theme=dark] .colab-df-convert {\n",
              "      background-color: #3B4455;\n",
              "      fill: #D2E3FC;\n",
              "    }\n",
              "\n",
              "    [theme=dark] .colab-df-convert:hover {\n",
              "      background-color: #434B5C;\n",
              "      box-shadow: 0px 1px 3px 1px rgba(0, 0, 0, 0.15);\n",
              "      filter: drop-shadow(0px 1px 2px rgba(0, 0, 0, 0.3));\n",
              "      fill: #FFFFFF;\n",
              "    }\n",
              "  </style>\n",
              "\n",
              "      <script>\n",
              "        const buttonEl =\n",
              "          document.querySelector('#df-7812504c-9214-4b21-84b2-4c021700da67 button.colab-df-convert');\n",
              "        buttonEl.style.display =\n",
              "          google.colab.kernel.accessAllowed ? 'block' : 'none';\n",
              "\n",
              "        async function convertToInteractive(key) {\n",
              "          const element = document.querySelector('#df-7812504c-9214-4b21-84b2-4c021700da67');\n",
              "          const dataTable =\n",
              "            await google.colab.kernel.invokeFunction('convertToInteractive',\n",
              "                                                     [key], {});\n",
              "          if (!dataTable) return;\n",
              "\n",
              "          const docLinkHtml = 'Like what you see? Visit the ' +\n",
              "            '<a target=\"_blank\" href=https://colab.research.google.com/notebooks/data_table.ipynb>data table notebook</a>'\n",
              "            + ' to learn more about interactive tables.';\n",
              "          element.innerHTML = '';\n",
              "          dataTable['output_type'] = 'display_data';\n",
              "          await google.colab.output.renderOutput(dataTable, element);\n",
              "          const docLink = document.createElement('div');\n",
              "          docLink.innerHTML = docLinkHtml;\n",
              "          element.appendChild(docLink);\n",
              "        }\n",
              "      </script>\n",
              "    </div>\n",
              "  </div>\n",
              "  "
            ]
          },
          "metadata": {},
          "execution_count": 7
        }
      ]
    },
    {
      "cell_type": "code",
      "source": [
        "# Procedemos de manera análoga para leer y cargar el archivo con los datos de Prueba:\n",
        "\n",
        "datatest = pd.read_csv(\"california_housing_test.csv\", sep=\",\")\n",
        "datatest.head()"
      ],
      "metadata": {
        "colab": {
          "base_uri": "https://localhost:8080/",
          "height": 206
        },
        "id": "6RnyY_PvBMFB",
        "outputId": "8fd67ae9-6ed7-461a-ec7c-32f7676674c7"
      },
      "execution_count": 8,
      "outputs": [
        {
          "output_type": "execute_result",
          "data": {
            "text/plain": [
              "   longitude  latitude  housing_median_age  total_rooms  total_bedrooms  \\\n",
              "0    -122.05     37.37                27.0       3885.0           661.0   \n",
              "1    -118.30     34.26                43.0       1510.0           310.0   \n",
              "2    -117.81     33.78                27.0       3589.0           507.0   \n",
              "3    -118.36     33.82                28.0         67.0            15.0   \n",
              "4    -119.67     36.33                19.0       1241.0           244.0   \n",
              "\n",
              "   population  households  median_income  median_house_value  \n",
              "0      1537.0       606.0         6.6085            344700.0  \n",
              "1       809.0       277.0         3.5990            176500.0  \n",
              "2      1484.0       495.0         5.7934            270500.0  \n",
              "3        49.0        11.0         6.1359            330000.0  \n",
              "4       850.0       237.0         2.9375             81700.0  "
            ],
            "text/html": [
              "\n",
              "  <div id=\"df-285cf775-80ec-41b7-85e4-197448fb2d36\">\n",
              "    <div class=\"colab-df-container\">\n",
              "      <div>\n",
              "<style scoped>\n",
              "    .dataframe tbody tr th:only-of-type {\n",
              "        vertical-align: middle;\n",
              "    }\n",
              "\n",
              "    .dataframe tbody tr th {\n",
              "        vertical-align: top;\n",
              "    }\n",
              "\n",
              "    .dataframe thead th {\n",
              "        text-align: right;\n",
              "    }\n",
              "</style>\n",
              "<table border=\"1\" class=\"dataframe\">\n",
              "  <thead>\n",
              "    <tr style=\"text-align: right;\">\n",
              "      <th></th>\n",
              "      <th>longitude</th>\n",
              "      <th>latitude</th>\n",
              "      <th>housing_median_age</th>\n",
              "      <th>total_rooms</th>\n",
              "      <th>total_bedrooms</th>\n",
              "      <th>population</th>\n",
              "      <th>households</th>\n",
              "      <th>median_income</th>\n",
              "      <th>median_house_value</th>\n",
              "    </tr>\n",
              "  </thead>\n",
              "  <tbody>\n",
              "    <tr>\n",
              "      <th>0</th>\n",
              "      <td>-122.05</td>\n",
              "      <td>37.37</td>\n",
              "      <td>27.0</td>\n",
              "      <td>3885.0</td>\n",
              "      <td>661.0</td>\n",
              "      <td>1537.0</td>\n",
              "      <td>606.0</td>\n",
              "      <td>6.6085</td>\n",
              "      <td>344700.0</td>\n",
              "    </tr>\n",
              "    <tr>\n",
              "      <th>1</th>\n",
              "      <td>-118.30</td>\n",
              "      <td>34.26</td>\n",
              "      <td>43.0</td>\n",
              "      <td>1510.0</td>\n",
              "      <td>310.0</td>\n",
              "      <td>809.0</td>\n",
              "      <td>277.0</td>\n",
              "      <td>3.5990</td>\n",
              "      <td>176500.0</td>\n",
              "    </tr>\n",
              "    <tr>\n",
              "      <th>2</th>\n",
              "      <td>-117.81</td>\n",
              "      <td>33.78</td>\n",
              "      <td>27.0</td>\n",
              "      <td>3589.0</td>\n",
              "      <td>507.0</td>\n",
              "      <td>1484.0</td>\n",
              "      <td>495.0</td>\n",
              "      <td>5.7934</td>\n",
              "      <td>270500.0</td>\n",
              "    </tr>\n",
              "    <tr>\n",
              "      <th>3</th>\n",
              "      <td>-118.36</td>\n",
              "      <td>33.82</td>\n",
              "      <td>28.0</td>\n",
              "      <td>67.0</td>\n",
              "      <td>15.0</td>\n",
              "      <td>49.0</td>\n",
              "      <td>11.0</td>\n",
              "      <td>6.1359</td>\n",
              "      <td>330000.0</td>\n",
              "    </tr>\n",
              "    <tr>\n",
              "      <th>4</th>\n",
              "      <td>-119.67</td>\n",
              "      <td>36.33</td>\n",
              "      <td>19.0</td>\n",
              "      <td>1241.0</td>\n",
              "      <td>244.0</td>\n",
              "      <td>850.0</td>\n",
              "      <td>237.0</td>\n",
              "      <td>2.9375</td>\n",
              "      <td>81700.0</td>\n",
              "    </tr>\n",
              "  </tbody>\n",
              "</table>\n",
              "</div>\n",
              "      <button class=\"colab-df-convert\" onclick=\"convertToInteractive('df-285cf775-80ec-41b7-85e4-197448fb2d36')\"\n",
              "              title=\"Convert this dataframe to an interactive table.\"\n",
              "              style=\"display:none;\">\n",
              "        \n",
              "  <svg xmlns=\"http://www.w3.org/2000/svg\" height=\"24px\"viewBox=\"0 0 24 24\"\n",
              "       width=\"24px\">\n",
              "    <path d=\"M0 0h24v24H0V0z\" fill=\"none\"/>\n",
              "    <path d=\"M18.56 5.44l.94 2.06.94-2.06 2.06-.94-2.06-.94-.94-2.06-.94 2.06-2.06.94zm-11 1L8.5 8.5l.94-2.06 2.06-.94-2.06-.94L8.5 2.5l-.94 2.06-2.06.94zm10 10l.94 2.06.94-2.06 2.06-.94-2.06-.94-.94-2.06-.94 2.06-2.06.94z\"/><path d=\"M17.41 7.96l-1.37-1.37c-.4-.4-.92-.59-1.43-.59-.52 0-1.04.2-1.43.59L10.3 9.45l-7.72 7.72c-.78.78-.78 2.05 0 2.83L4 21.41c.39.39.9.59 1.41.59.51 0 1.02-.2 1.41-.59l7.78-7.78 2.81-2.81c.8-.78.8-2.07 0-2.86zM5.41 20L4 18.59l7.72-7.72 1.47 1.35L5.41 20z\"/>\n",
              "  </svg>\n",
              "      </button>\n",
              "      \n",
              "  <style>\n",
              "    .colab-df-container {\n",
              "      display:flex;\n",
              "      flex-wrap:wrap;\n",
              "      gap: 12px;\n",
              "    }\n",
              "\n",
              "    .colab-df-convert {\n",
              "      background-color: #E8F0FE;\n",
              "      border: none;\n",
              "      border-radius: 50%;\n",
              "      cursor: pointer;\n",
              "      display: none;\n",
              "      fill: #1967D2;\n",
              "      height: 32px;\n",
              "      padding: 0 0 0 0;\n",
              "      width: 32px;\n",
              "    }\n",
              "\n",
              "    .colab-df-convert:hover {\n",
              "      background-color: #E2EBFA;\n",
              "      box-shadow: 0px 1px 2px rgba(60, 64, 67, 0.3), 0px 1px 3px 1px rgba(60, 64, 67, 0.15);\n",
              "      fill: #174EA6;\n",
              "    }\n",
              "\n",
              "    [theme=dark] .colab-df-convert {\n",
              "      background-color: #3B4455;\n",
              "      fill: #D2E3FC;\n",
              "    }\n",
              "\n",
              "    [theme=dark] .colab-df-convert:hover {\n",
              "      background-color: #434B5C;\n",
              "      box-shadow: 0px 1px 3px 1px rgba(0, 0, 0, 0.15);\n",
              "      filter: drop-shadow(0px 1px 2px rgba(0, 0, 0, 0.3));\n",
              "      fill: #FFFFFF;\n",
              "    }\n",
              "  </style>\n",
              "\n",
              "      <script>\n",
              "        const buttonEl =\n",
              "          document.querySelector('#df-285cf775-80ec-41b7-85e4-197448fb2d36 button.colab-df-convert');\n",
              "        buttonEl.style.display =\n",
              "          google.colab.kernel.accessAllowed ? 'block' : 'none';\n",
              "\n",
              "        async function convertToInteractive(key) {\n",
              "          const element = document.querySelector('#df-285cf775-80ec-41b7-85e4-197448fb2d36');\n",
              "          const dataTable =\n",
              "            await google.colab.kernel.invokeFunction('convertToInteractive',\n",
              "                                                     [key], {});\n",
              "          if (!dataTable) return;\n",
              "\n",
              "          const docLinkHtml = 'Like what you see? Visit the ' +\n",
              "            '<a target=\"_blank\" href=https://colab.research.google.com/notebooks/data_table.ipynb>data table notebook</a>'\n",
              "            + ' to learn more about interactive tables.';\n",
              "          element.innerHTML = '';\n",
              "          dataTable['output_type'] = 'display_data';\n",
              "          await google.colab.output.renderOutput(dataTable, element);\n",
              "          const docLink = document.createElement('div');\n",
              "          docLink.innerHTML = docLinkHtml;\n",
              "          element.appendChild(docLink);\n",
              "        }\n",
              "      </script>\n",
              "    </div>\n",
              "  </div>\n",
              "  "
            ]
          },
          "metadata": {},
          "execution_count": 8
        }
      ]
    },
    {
      "cell_type": "code",
      "source": [
        "# Veamos la cantidad de datos que tenemos:\n",
        "\n",
        "print('Tamaño datos de Entrenamiento:', datatrain.shape)\n",
        "print('Tamaño datos de Prueba2:', datatest.shape)"
      ],
      "metadata": {
        "colab": {
          "base_uri": "https://localhost:8080/"
        },
        "id": "7Men1um4B7S_",
        "outputId": "7484d204-df2b-4d45-c92d-631e3998cba4"
      },
      "execution_count": 10,
      "outputs": [
        {
          "output_type": "stream",
          "name": "stdout",
          "text": [
            "Tamaño datos de Entrenamiento: (17000, 9)\n",
            "Tamaño datos de Prueba2: (3000, 9)\n"
          ]
        }
      ]
    },
    {
      "cell_type": "code",
      "source": [
        "datatrain.info()"
      ],
      "metadata": {
        "colab": {
          "base_uri": "https://localhost:8080/"
        },
        "id": "oG6pPl-vzuUK",
        "outputId": "ece80929-0e1d-4ddf-b2ec-e3726ec5b09a"
      },
      "execution_count": 11,
      "outputs": [
        {
          "output_type": "stream",
          "name": "stdout",
          "text": [
            "<class 'pandas.core.frame.DataFrame'>\n",
            "RangeIndex: 17000 entries, 0 to 16999\n",
            "Data columns (total 9 columns):\n",
            " #   Column              Non-Null Count  Dtype  \n",
            "---  ------              --------------  -----  \n",
            " 0   longitude           17000 non-null  float64\n",
            " 1   latitude            17000 non-null  float64\n",
            " 2   housing_median_age  17000 non-null  float64\n",
            " 3   total_rooms         17000 non-null  float64\n",
            " 4   total_bedrooms      17000 non-null  float64\n",
            " 5   population          17000 non-null  float64\n",
            " 6   households          17000 non-null  float64\n",
            " 7   median_income       17000 non-null  float64\n",
            " 8   median_house_value  17000 non-null  float64\n",
            "dtypes: float64(9)\n",
            "memory usage: 1.2 MB\n"
          ]
        }
      ]
    },
    {
      "cell_type": "code",
      "source": [
        "datatest.info()"
      ],
      "metadata": {
        "colab": {
          "base_uri": "https://localhost:8080/"
        },
        "id": "elF8_iDizvBX",
        "outputId": "d6952817-8c4f-494a-a70b-58c6d815546e"
      },
      "execution_count": 16,
      "outputs": [
        {
          "output_type": "stream",
          "name": "stdout",
          "text": [
            "<class 'pandas.core.frame.DataFrame'>\n",
            "RangeIndex: 3000 entries, 0 to 2999\n",
            "Data columns (total 9 columns):\n",
            " #   Column              Non-Null Count  Dtype  \n",
            "---  ------              --------------  -----  \n",
            " 0   longitude           3000 non-null   float64\n",
            " 1   latitude            3000 non-null   float64\n",
            " 2   housing_median_age  3000 non-null   float64\n",
            " 3   total_rooms         3000 non-null   float64\n",
            " 4   total_bedrooms      3000 non-null   float64\n",
            " 5   population          3000 non-null   float64\n",
            " 6   households          3000 non-null   float64\n",
            " 7   median_income       3000 non-null   float64\n",
            " 8   median_house_value  3000 non-null   float64\n",
            "dtypes: float64(9)\n",
            "memory usage: 211.1 KB\n"
          ]
        }
      ]
    },
    {
      "cell_type": "code",
      "source": [
        "sns.set(rc={'figure.figsize':(10,12)})   # (ancho-columnas, altura-renglones) Ajustemos el tamaño de la ventana \n",
        "                                         # que desplegará los gráficos usando la librería de seaborn (sns)."
      ],
      "metadata": {
        "id": "g7iYAhsQz5vq"
      },
      "execution_count": 17,
      "outputs": []
    },
    {
      "cell_type": "code",
      "source": [
        "fig, axes = plt.subplots(3, 3)    # Definimos una ventana de 3x3 nichos para incluir en cada uno de ellos un gráfico.\n",
        "for k in range(0,9):\n",
        "  plt.subplot(3,3,k+1)     # Los nichos para cada histograma se numeran iniciando en 1.\n",
        "  plt.hist(datatrain[datatrain.columns[k]], bins=20)     # datatrain.columns nos devuelve una lista con los nombres de las columnas.\n",
        "  plt.xlabel(datatrain.columns[k])\n",
        "plt.show()"
      ],
      "metadata": {
        "colab": {
          "base_uri": "https://localhost:8080/",
          "height": 720
        },
        "id": "5z3Oivp90Exp",
        "outputId": "9e78c554-5a6e-4dac-ade7-4dd88f6526a1"
      },
      "execution_count": 18,
      "outputs": [
        {
          "output_type": "display_data",
          "data": {
            "text/plain": [
              "<Figure size 720x864 with 9 Axes>"
            ],
            "image/png": "[encoded data removed]"
          },
          "metadata": {}
        }
      ]
    },
    {
      "cell_type": "code",
      "source": [
        "datatrain.describe()"
      ],
      "metadata": {
        "colab": {
          "base_uri": "https://localhost:8080/",
          "height": 300
        },
        "id": "5JaeJHBG0TI1",
        "outputId": "45ac4f2c-fc4f-4282-9b18-39b8c4b3d856"
      },
      "execution_count": 19,
      "outputs": [
        {
          "output_type": "execute_result",
          "data": {
            "text/plain": [
              "          longitude      latitude  housing_median_age   total_rooms  \\\n",
              "count  17000.000000  17000.000000        17000.000000  17000.000000   \n",
              "mean    -119.562108     35.625225           28.589353   2643.664412   \n",
              "std        2.005166      2.137340           12.586937   2179.947071   \n",
              "min     -124.350000     32.540000            1.000000      2.000000   \n",
              "25%     -121.790000     33.930000           18.000000   1462.000000   \n",
              "50%     -118.490000     34.250000           29.000000   2127.000000   \n",
              "75%     -118.000000     37.720000           37.000000   3151.250000   \n",
              "max     -114.310000     41.950000           52.000000  37937.000000   \n",
              "\n",
              "       total_bedrooms    population    households  median_income  \\\n",
              "count    17000.000000  17000.000000  17000.000000   17000.000000   \n",
              "mean       539.410824   1429.573941    501.221941       3.883578   \n",
              "std        421.499452   1147.852959    384.520841       1.908157   \n",
              "min          1.000000      3.000000      1.000000       0.499900   \n",
              "25%        297.000000    790.000000    282.000000       2.566375   \n",
              "50%        434.000000   1167.000000    409.000000       3.544600   \n",
              "75%        648.250000   1721.000000    605.250000       4.767000   \n",
              "max       6445.000000  35682.000000   6082.000000      15.000100   \n",
              "\n",
              "       median_house_value  \n",
              "count        17000.000000  \n",
              "mean        207300.912353  \n",
              "std         115983.764387  \n",
              "min          14999.000000  \n",
              "25%         119400.000000  \n",
              "50%         180400.000000  \n",
              "75%         265000.000000  \n",
              "max         500001.000000  "
            ],
            "text/html": [
              "\n",
              "  <div id=\"df-89a2eb6d-1f4f-4bd6-ace1-bf06f2d504bd\">\n",
              "    <div class=\"colab-df-container\">\n",
              "      <div>\n",
              "<style scoped>\n",
              "    .dataframe tbody tr th:only-of-type {\n",
              "        vertical-align: middle;\n",
              "    }\n",
              "\n",
              "    .dataframe tbody tr th {\n",
              "        vertical-align: top;\n",
              "    }\n",
              "\n",
              "    .dataframe thead th {\n",
              "        text-align: right;\n",
              "    }\n",
              "</style>\n",
              "<table border=\"1\" class=\"dataframe\">\n",
              "  <thead>\n",
              "    <tr style=\"text-align: right;\">\n",
              "      <th></th>\n",
              "      <th>longitude</th>\n",
              "      <th>latitude</th>\n",
              "      <th>housing_median_age</th>\n",
              "      <th>total_rooms</th>\n",
              "      <th>total_bedrooms</th>\n",
              "      <th>population</th>\n",
              "      <th>households</th>\n",
              "      <th>median_income</th>\n",
              "      <th>median_house_value</th>\n",
              "    </tr>\n",
              "  </thead>\n",
              "  <tbody>\n",
              "    <tr>\n",
              "      <th>count</th>\n",
              "      <td>17000.000000</td>\n",
              "      <td>17000.000000</td>\n",
              "      <td>17000.000000</td>\n",
              "      <td>17000.000000</td>\n",
              "      <td>17000.000000</td>\n",
              "      <td>17000.000000</td>\n",
              "      <td>17000.000000</td>\n",
              "      <td>17000.000000</td>\n",
              "      <td>17000.000000</td>\n",
              "    </tr>\n",
              "    <tr>\n",
              "      <th>mean</th>\n",
              "      <td>-119.562108</td>\n",
              "      <td>35.625225</td>\n",
              "      <td>28.589353</td>\n",
              "      <td>2643.664412</td>\n",
              "      <td>539.410824</td>\n",
              "      <td>1429.573941</td>\n",
              "      <td>501.221941</td>\n",
              "      <td>3.883578</td>\n",
              "      <td>207300.912353</td>\n",
              "    </tr>\n",
              "    <tr>\n",
              "      <th>std</th>\n",
              "      <td>2.005166</td>\n",
              "      <td>2.137340</td>\n",
              "      <td>12.586937</td>\n",
              "      <td>2179.947071</td>\n",
              "      <td>421.499452</td>\n",
              "      <td>1147.852959</td>\n",
              "      <td>384.520841</td>\n",
              "      <td>1.908157</td>\n",
              "      <td>115983.764387</td>\n",
              "    </tr>\n",
              "    <tr>\n",
              "      <th>min</th>\n",
              "      <td>-124.350000</td>\n",
              "      <td>32.540000</td>\n",
              "      <td>1.000000</td>\n",
              "      <td>2.000000</td>\n",
              "      <td>1.000000</td>\n",
              "      <td>3.000000</td>\n",
              "      <td>1.000000</td>\n",
              "      <td>0.499900</td>\n",
              "      <td>14999.000000</td>\n",
              "    </tr>\n",
              "    <tr>\n",
              "      <th>25%</th>\n",
              "      <td>-121.790000</td>\n",
              "      <td>33.930000</td>\n",
              "      <td>18.000000</td>\n",
              "      <td>1462.000000</td>\n",
              "      <td>297.000000</td>\n",
              "      <td>790.000000</td>\n",
              "      <td>282.000000</td>\n",
              "      <td>2.566375</td>\n",
              "      <td>119400.000000</td>\n",
              "    </tr>\n",
              "    <tr>\n",
              "      <th>50%</th>\n",
              "      <td>-118.490000</td>\n",
              "      <td>34.250000</td>\n",
              "      <td>29.000000</td>\n",
              "      <td>2127.000000</td>\n",
              "      <td>434.000000</td>\n",
              "      <td>1167.000000</td>\n",
              "      <td>409.000000</td>\n",
              "      <td>3.544600</td>\n",
              "      <td>180400.000000</td>\n",
              "    </tr>\n",
              "    <tr>\n",
              "      <th>75%</th>\n",
              "      <td>-118.000000</td>\n",
              "      <td>37.720000</td>\n",
              "      <td>37.000000</td>\n",
              "      <td>3151.250000</td>\n",
              "      <td>648.250000</td>\n",
              "      <td>1721.000000</td>\n",
              "      <td>605.250000</td>\n",
              "      <td>4.767000</td>\n",
              "      <td>265000.000000</td>\n",
              "    </tr>\n",
              "    <tr>\n",
              "      <th>max</th>\n",
              "      <td>-114.310000</td>\n",
              "      <td>41.950000</td>\n",
              "      <td>52.000000</td>\n",
              "      <td>37937.000000</td>\n",
              "      <td>6445.000000</td>\n",
              "      <td>35682.000000</td>\n",
              "      <td>6082.000000</td>\n",
              "      <td>15.000100</td>\n",
              "      <td>500001.000000</td>\n",
              "    </tr>\n",
              "  </tbody>\n",
              "</table>\n",
              "</div>\n",
              "      <button class=\"colab-df-convert\" onclick=\"convertToInteractive('df-89a2eb6d-1f4f-4bd6-ace1-bf06f2d504bd')\"\n",
              "              title=\"Convert this dataframe to an interactive table.\"\n",
              "              style=\"display:none;\">\n",
              "        \n",
              "  <svg xmlns=\"http://www.w3.org/2000/svg\" height=\"24px\"viewBox=\"0 0 24 24\"\n",
              "       width=\"24px\">\n",
              "    <path d=\"M0 0h24v24H0V0z\" fill=\"none\"/>\n",
              "    <path d=\"M18.56 5.44l.94 2.06.94-2.06 2.06-.94-2.06-.94-.94-2.06-.94 2.06-2.06.94zm-11 1L8.5 8.5l.94-2.06 2.06-.94-2.06-.94L8.5 2.5l-.94 2.06-2.06.94zm10 10l.94 2.06.94-2.06 2.06-.94-2.06-.94-.94-2.06-.94 2.06-2.06.94z\"/><path d=\"M17.41 7.96l-1.37-1.37c-.4-.4-.92-.59-1.43-.59-.52 0-1.04.2-1.43.59L10.3 9.45l-7.72 7.72c-.78.78-.78 2.05 0 2.83L4 21.41c.39.39.9.59 1.41.59.51 0 1.02-.2 1.41-.59l7.78-7.78 2.81-2.81c.8-.78.8-2.07 0-2.86zM5.41 20L4 18.59l7.72-7.72 1.47 1.35L5.41 20z\"/>\n",
              "  </svg>\n",
              "      </button>\n",
              "      \n",
              "  <style>\n",
              "    .colab-df-container {\n",
              "      display:flex;\n",
              "      flex-wrap:wrap;\n",
              "      gap: 12px;\n",
              "    }\n",
              "\n",
              "    .colab-df-convert {\n",
              "      background-color: #E8F0FE;\n",
              "      border: none;\n",
              "      border-radius: 50%;\n",
              "      cursor: pointer;\n",
              "      display: none;\n",
              "      fill: #1967D2;\n",
              "      height: 32px;\n",
              "      padding: 0 0 0 0;\n",
              "      width: 32px;\n",
              "    }\n",
              "\n",
              "    .colab-df-convert:hover {\n",
              "      background-color: #E2EBFA;\n",
              "      box-shadow: 0px 1px 2px rgba(60, 64, 67, 0.3), 0px 1px 3px 1px rgba(60, 64, 67, 0.15);\n",
              "      fill: #174EA6;\n",
              "    }\n",
              "\n",
              "    [theme=dark] .colab-df-convert {\n",
              "      background-color: #3B4455;\n",
              "      fill: #D2E3FC;\n",
              "    }\n",
              "\n",
              "    [theme=dark] .colab-df-convert:hover {\n",
              "      background-color: #434B5C;\n",
              "      box-shadow: 0px 1px 3px 1px rgba(0, 0, 0, 0.15);\n",
              "      filter: drop-shadow(0px 1px 2px rgba(0, 0, 0, 0.3));\n",
              "      fill: #FFFFFF;\n",
              "    }\n",
              "  </style>\n",
              "\n",
              "      <script>\n",
              "        const buttonEl =\n",
              "          document.querySelector('#df-89a2eb6d-1f4f-4bd6-ace1-bf06f2d504bd button.colab-df-convert');\n",
              "        buttonEl.style.display =\n",
              "          google.colab.kernel.accessAllowed ? 'block' : 'none';\n",
              "\n",
              "        async function convertToInteractive(key) {\n",
              "          const element = document.querySelector('#df-89a2eb6d-1f4f-4bd6-ace1-bf06f2d504bd');\n",
              "          const dataTable =\n",
              "            await google.colab.kernel.invokeFunction('convertToInteractive',\n",
              "                                                     [key], {});\n",
              "          if (!dataTable) return;\n",
              "\n",
              "          const docLinkHtml = 'Like what you see? Visit the ' +\n",
              "            '<a target=\"_blank\" href=https://colab.research.google.com/notebooks/data_table.ipynb>data table notebook</a>'\n",
              "            + ' to learn more about interactive tables.';\n",
              "          element.innerHTML = '';\n",
              "          dataTable['output_type'] = 'display_data';\n",
              "          await google.colab.output.renderOutput(dataTable, element);\n",
              "          const docLink = document.createElement('div');\n",
              "          docLink.innerHTML = docLinkHtml;\n",
              "          element.appendChild(docLink);\n",
              "        }\n",
              "      </script>\n",
              "    </div>\n",
              "  </div>\n",
              "  "
            ]
          },
          "metadata": {},
          "execution_count": 19
        }
      ]
    },
    {
      "cell_type": "code",
      "source": [
        "sns.set(rc={'figure.figsize':(16,7)})\n",
        "\n",
        "fig, axes = plt.subplots(2, 6)    \n",
        "for k in range(3,9):             # grafiquemos por el momento solo los factores con marcado sesgo positivo.\n",
        "  plt.subplot(2,6,k-2)\n",
        "\n",
        "  tmp = datatrain[datatrain.columns[k]]   # datos originales.\n",
        "  plt.hist(tmp, bins=20)\n",
        "  plt.xlabel(datatrain.columns[k])\n",
        "\n",
        "  plt.subplot(2,6,k+4)\n",
        "  tmp = np.sqrt(datatrain[datatrain.columns[k]])   # datos con alguna transformación para ajuste de la distribución.\n",
        "  plt.hist(tmp, bins=20)\n",
        "  plt.xlabel(datatrain.columns[k])\n",
        "\n",
        "plt.show()"
      ],
      "metadata": {
        "colab": {
          "base_uri": "https://localhost:8080/",
          "height": 449
        },
        "id": "yy1DHZ2p0fsS",
        "outputId": "5a978a5b-a97c-4ad5-92e9-3868ad5a249d"
      },
      "execution_count": 20,
      "outputs": [
        {
          "output_type": "display_data",
          "data": {
            "text/plain": [
              "<Figure size 1152x504 with 12 Axes>"
            ],
            "image/png": "[encoded data removed]"
          },
          "metadata": {}
        }
      ]
    },
    {
      "cell_type": "code",
      "source": [
        "# Definimos nuestra función del coeficiente de determinación ajustado a partir de las fórmulas dadas anteriormente, donde:\n",
        "#    y_true: valores observados reales\n",
        "#    y_hat : predicciones\n",
        "\n",
        "# Suma de cuadrados de los errores:\n",
        "def mi_SSE(y_true, y_hat):\n",
        "  return sum( np.square(y_true - y_hat))\n",
        "\n",
        "# Suma de cuadrados de la variabilidad total:\n",
        "def mi_Syy(y_true, ymtrain):    # observa que se usa el valor promedio de las observaciones del conjunto de entrenamiento ymtrain.\n",
        "  return sum( np.square(y_true - ymtrain))\n",
        "\n",
        "# Coeficiente de determinación ajustado:\n",
        "def mi_R2adj(sse, syy, n, k):\n",
        "  tmp = ((n-1) / (n-k-1)) * (sse/syy)     # n:total de registros. k: total de variables independientes (predictores).\n",
        "  return 1 - tmp    # coeficiente de determinación ajustado R2adj"
      ],
      "metadata": {
        "id": "9_5iO7x31T74"
      },
      "execution_count": 21,
      "outputs": []
    },
    {
      "cell_type": "code",
      "source": [
        "from sklearn.impute import SimpleImputer\n",
        "from sklearn.preprocessing import MinMaxScaler, FunctionTransformer   \n",
        "\n",
        "from sklearn.pipeline import Pipeline\n",
        "from sklearn.compose import ColumnTransformer\n",
        "\n",
        "from sklearn.linear_model import LinearRegression\n",
        "from sklearn.metrics import mean_squared_error, r2_score\n",
        "\n",
        "from sklearn.model_selection import KFold"
      ],
      "metadata": {
        "id": "lcUvXP_q3gt-"
      },
      "execution_count": 26,
      "outputs": []
    },
    {
      "cell_type": "code",
      "source": [
        "# Con los datos de \"Entrenamiento\".\n",
        "# Recuerda que en realidad a partir de este conjunto que estamos llamando de \"Entrenamiento\", \n",
        "# se generarán en cada partición de la validación-cruzada el conjunto de entrenamiento y el de validación, como\n",
        "# lo explicamos anteriormente:\n",
        "Xtrain = datatrain.drop('median_house_value', axis='columns')      # Definimos el conjunto de todos los factores de entrada, \n",
        "                                                                   # omitiendo la variable de salida. Drop hace una copia de datatrain.\n",
        "\n",
        "ytrain = datatrain['median_house_value']        # Definimos nuestra variable de salida\n",
        "\n",
        "\n",
        "# De manera análoga con los datos de prueba:\n",
        "Xtest = datatest.drop('median_house_value', axis='columns') \n",
        "ytest = datatest['median_house_value']"
      ],
      "metadata": {
        "id": "LjRLzHQx30PI"
      },
      "execution_count": 27,
      "outputs": []
    },
    {
      "cell_type": "code",
      "source": [
        "# Preprocesamiento: \n",
        "# Para todas las variables imputaremos con el valor de la mediana en caso de encontrar valores perdidos,\n",
        "# seguido del un escalamiento al intervalo [0,1]:\n",
        "num_prepro_pipeline = Pipeline(steps = [('imputar', SimpleImputer(strategy='median')),\n",
        "                                        ('escalar', MinMaxScaler(feature_range=(1,2)))])   # Escalamos los datos al intervalo cerrado [1,2].\n",
        "num_prepro_nombres = list(Xtrain.columns)    \n",
        "\n",
        "# Transformación raíz cuadrada solo para aquellas con marcado sesgo positivo:\n",
        "num_raiz_pipeline = Pipeline(steps = [('sqrt', FunctionTransformer(np.sqrt))])     \n",
        "num_raiz_nombres = ['total_rooms','total_bedrooms','population','households','median_income']\n",
        "\n",
        "# Aplicamos dichas transformaciones a las variables indicadas y el resto las dejamos igual:\n",
        "columnasTransformer = ColumnTransformer(transformers = [('num_prepro', num_prepro_pipeline, num_prepro_nombres),\n",
        "                                                        ('num_raiz', num_raiz_pipeline, num_raiz_nombres),\n",
        "                                                        ],\n",
        "                                        remainder='passthrough')"
      ],
      "metadata": {
        "id": "EFZeGhZ_4Awu"
      },
      "execution_count": 30,
      "outputs": []
    },
    {
      "cell_type": "code",
      "source": [
        "# Seleccionamos primeramente nuestro modelo de aprendizaje automático, en este caso el de regresión lineal múltiple:\n",
        "modelo_LR = LinearRegression()\n",
        "\n",
        "# En ocasiones se calculan también los desempeños del conjunto de entrenamiento en cada partición \n",
        "# para tener otra manera de medir el sobreentrenamiento. Aunque es opcional, ya que esto\n",
        "# implica un mayor costo computacional y hay otras maneras de medir el sobreentrenamiento. Sin\n",
        "# embargo en este caso sí los estaremos calculando a manera de ilustración:\n",
        "\n",
        "scoresR2Train = []       # R2 del conjunto de entrenamiento.\n",
        "scoresR2Val = []         # R2 del conjunto de validación con filtración.\n",
        "scoresmiR2Val = []       # R2 del conjunto de validación sin filtración.\n",
        "scoresmiR2adjVal = []    # R2 ajustada sin filtración.\n",
        "scoresRMSEVal = []       # RMSE\n",
        "\n",
        "# Inicializamos validación-cruzada usando KFold con k=n_splits particiones.\n",
        "# Observa que estamos aleatorizando los registros (con el argumento shuffle), ya que no sabemos si los \n",
        "# datos originales fueron guardados en los archivos con algún patrón particular.\n",
        "k = 5  # total de particiones (folds)\n",
        "kf = KFold(n_splits= k, shuffle=True)   \n",
        "\n",
        "# Aplicamos validación-cruzada mediante la evaluación de cada una de las k particiones:\n",
        "for train_index, val_index in kf.split(Xtrain):\n",
        "\n",
        "  # En cada partición definimos ahora sí el conjunto de entrenamiento y el de validación:   \n",
        "  X_train, X_val = Xtrain.loc[train_index], Xtrain.loc[val_index]\n",
        "  y_train, y_val = ytrain[train_index], ytrain[val_index]\n",
        "\n",
        "  # Aplicamos las transformaciones al conjunto de entrenamiento:\n",
        "  XtrainFit = columnasTransformer.fit(X_train)   # Generamos la información necesaria con el conjunto de entrenamiento.\n",
        "  XtrainTransf = XtrainFit.transform(X_train)    # y aplicamos dichas transformaciones al conjunto de entrenamiento,\n",
        "  XvalTransf  =  XtrainFit.transform(X_val)      # y al conjunto de validación.\n",
        "  ymtrain = np.mean(y_train)   # También requeriremos el promedio de las observaciones de entrenamiento para calcular Syy.\n",
        "\n",
        "  # Generamos el modelo de regresión lineal con los datos de entrenamiento de esta partición:\n",
        "  modelo_LR = modelo_LR.fit(XtrainTransf, y_train)\n",
        "  scoresR2Train.append(modelo_LR.score(XtrainTransf,y_train))   # guardamos el desempeño R2 con los datos de entrenamiento.\n",
        "  \n",
        "  yhat = modelo_LR.predict(XvalTransf)  # obtenemos las predicciones con el conjunto de validación.\n",
        "  scoresR2Val.append(modelo_LR.score(XvalTransf, y_val))   # guardamos los valores de R2, aunque en este caso hay filtración\n",
        "                                                           # de datos ya que \"score\" hace aquí uso de del promedio de y_val.\n",
        "  \n",
        "  # Calcularemos el valor de R2 con nuestras fórmulas para mostrar que en este caso, aunque pequeña, hay filtración.\n",
        "  # mi_R2:\n",
        "  sse = mi_SSE(y_val, yhat)\n",
        "  syy = mi_Syy(y_val, ymtrain)   # esta función evita la filtración de información al usar el promedio de los datos de entrenamiento.\n",
        "  scoresmiR2Val.append(1 - sse/syy)\n",
        "\n",
        "  # mi_R2_ajustada. Recordemos que en un problema de regresión lineal múltiple, es mejor considerar el valor ajustado de R2.\n",
        "  tmp = mi_R2adj(sse,syy,XvalTransf.shape[0],XvalTransf.shape[1])\n",
        "  scoresmiR2adjVal.append(tmp)\n",
        "\n",
        "  # Calculamos también el error cuadrático medio RMSE a partir del MSE que nos da scikit-learn:\n",
        "  ss = mean_squared_error(y_val, yhat, squared=False) \n",
        "  scoresRMSEVal.append(ss)\n",
        "\n",
        "\n",
        "# Mostremos los diagramas de caja de los resultados obtenidos:\n",
        "results = [scoresmiR2adjVal,scoresmiR2Val,scoresR2Val,scoresR2Train]\n",
        "names = ['miR2adjval','miR2val','R2val','R2train']\n",
        "\n",
        "sns.set(rc={'figure.figsize':(6,5)})\n",
        "plt.boxplot(results, labels=names, showmeans=True, vert=False)\n",
        "plt.show()"
      ],
      "metadata": {
        "colab": {
          "base_uri": "https://localhost:8080/",
          "height": 322
        },
        "id": "FW8Ji96L4af3",
        "outputId": "6d575825-81c2-4906-f885-50477ba0c71c"
      },
      "execution_count": 32,
      "outputs": [
        {
          "output_type": "display_data",
          "data": {
            "text/plain": [
              "<Figure size 432x360 with 1 Axes>"
            ],
            "image/png": "[encoded data removed]"
          },
          "metadata": {}
        }
      ]
    },
    {
      "cell_type": "code",
      "source": [
        "# Despleguemos los resultados de los diferentes coeficientes de determinación obtenidos:\n",
        "\n",
        "print(\"\\t  %s \\t%s   \\t%s \\t%s\" % (names[3],names[2],names[1],names[0]))\n",
        "\n",
        "for i,z in enumerate(zip(scoresR2Train, scoresR2Val, scoresmiR2Val, scoresmiR2adjVal)):\n",
        "  print(\"fold[%d]:  %.4f \\t%.4f  \\t%.4f  \\t%.4f\" % (i+1,z[0],z[1],z[2],z[3]))\n",
        "\n",
        "print(\"mean(std) %.3f(%.3f)  %.3f(%.3f)    %.3f(%.3f)    %.3f(%.3f)\" % (np.mean(scoresR2Train), np.std(scoresR2Train),\n",
        "                                                                        np.mean(scoresR2Val), np.std(scoresR2Val),\n",
        "                                                                        np.mean(scoresmiR2Val), np.std(scoresmiR2Val),\n",
        "                                                                        np.mean(scoresmiR2adjVal), np.std(scoresmiR2adjVal)))"
      ],
      "metadata": {
        "colab": {
          "base_uri": "https://localhost:8080/"
        },
        "id": "SQPN28a75fGw",
        "outputId": "16a6731c-1cdd-4474-b823-3db6473aebfc"
      },
      "execution_count": 33,
      "outputs": [
        {
          "output_type": "stream",
          "name": "stdout",
          "text": [
            "\t  R2train \tR2val   \tmiR2val \tmiR2adjval\n",
            "fold[1]:  0.6739 \t0.6674  \t0.6675  \t0.6663\n",
            "fold[2]:  0.6750 \t0.6626  \t0.6627  \t0.6614\n",
            "fold[3]:  0.6727 \t0.6713  \t0.6716  \t0.6704\n",
            "fold[4]:  0.6692 \t0.6862  \t0.6862  \t0.6850\n",
            "fold[5]:  0.6734 \t0.6695  \t0.6695  \t0.6683\n",
            "mean(std) 0.673(0.002)  0.671(0.008)    0.672(0.008)    0.670(0.008)\n"
          ]
        }
      ]
    },
    {
      "cell_type": "code",
      "source": [
        "# Y ahora despleguemos los valores de RMSE de validación de cada partición:\n",
        "\n",
        "print(\"\\t  RMSEval\")\n",
        "\n",
        "for i,s in enumerate(scoresRMSEVal):\n",
        "  print(\"fold[%d]:  %.2f\" % (i+1,s))\n",
        "\n",
        "#print(\"\\t %.2f (%.2f)\" % (np.mean(scoresMSEVal), np.std(scoresMSEVal))) \n",
        "print(\"mean(std) %.2f (%.2f)\" % (np.mean(scoresRMSEVal), np.std(scoresRMSEVal)))"
      ],
      "metadata": {
        "colab": {
          "base_uri": "https://localhost:8080/"
        },
        "id": "msXtX7IG539b",
        "outputId": "402fdae6-fc42-4bc6-baa0-e793fe61b600"
      },
      "execution_count": 34,
      "outputs": [
        {
          "output_type": "stream",
          "name": "stdout",
          "text": [
            "\t  RMSEval\n",
            "fold[1]:  67671.03\n",
            "fold[2]:  67190.32\n",
            "fold[3]:  66037.77\n",
            "fold[4]:  65225.04\n",
            "fold[5]:  66215.68\n",
            "mean(std) 66467.97 (867.50)\n"
          ]
        }
      ]
    },
    {
      "cell_type": "code",
      "source": [
        "# Inicializamos de nuevo nuestro mejor modelo con sus parámetros predeterminados:\n",
        "modelo_LRf = LinearRegression()\n",
        "\n",
        "# Ajustamos las transformaciones con el conjunto de \"entrenamiento aumentado\", i.e., el train-set \n",
        "# completo del archivo inicial, pero con los MISMOS PASOS que ya se decidieron en la etapa de entrenamiento previa:\n",
        "XtrainTf = columnasTransformer.fit(Xtrain)\n",
        "XtrainFTf = XtrainTf.transform(Xtrain)   # Aplicamos las mejores transformaciones  a los datos completos de train.\n",
        "XtestFTf = XtrainTf.transform(Xtest)     # Aplicamos las transformaciones a Test con la información de Train para evitar la filtración.\n",
        "                                         # Observa que esta es la primera vez que usamos los datos de prueba (Test) desde que iniciamos.\n",
        "\n",
        "modelo_LRf = modelo_LRf.fit(XtrainFTf, ytrain)   # Entrenamos el mejor modelo con el conjunto de \"entrenamiento aumentado\".\n",
        "\n",
        "yhatf = modelo_LRf.predict(XtestFTf)    # Generamos las predicciones con los datos de prueba (Test).\n",
        "\n",
        "ymtrainf = np.mean(ytrain)     # Obtenemos el promedio de los datos de entrenamiento (recuerda que sklearn no nos regresa R2adj).\n",
        "ssef = mi_SSE(ytest, yhatf)\n",
        "syyf = mi_Syy(ytest, ymtrainf)\n",
        "miR2adjf = mi_R2adj(ssef,syyf,XtestFTf.shape[0],XtestFTf.shape[1])   # Obtenemos R2adj con nuestra función que definimos previamente.\n",
        "\n",
        "print(\"Métricas de desempeño del modelo final obtenido con el conjunto de prueba:\")\n",
        "print(\"Coeficiente de determinación ajustado: miR2adj = %.4f\" % miR2adjf)\n",
        "\n",
        "#print(\"Coeficiente de determinación R2 con filtración: %.4f\" % modelo_LRf.score(XtestFTf, ytest))   \n",
        "\n",
        "RMSEtestf = mean_squared_error(ytest, yhatf, squared=False)\n",
        "print(\"Raíz del error cuadrático medio: RMSE = %.2f\" % RMSEtestf)"
      ],
      "metadata": {
        "colab": {
          "base_uri": "https://localhost:8080/"
        },
        "id": "fQjZO12Z6Zdw",
        "outputId": "31235307-5f06-47f9-afb6-02900b1e09ad"
      },
      "execution_count": 35,
      "outputs": [
        {
          "output_type": "stream",
          "name": "stdout",
          "text": [
            "Métricas de desempeño del modelo final obtenido con el conjunto de prueba:\n",
            "Coeficiente de determinación ajustado: miR2adj = 0.6396\n",
            "Raíz del error cuadrático medio: RMSE = 67756.78\n"
          ]
        }
      ]
    },
    {
      "cell_type": "code",
      "source": [
        "# Recordemos que el coeficiente de determinación lo podemos interpretar como el siguiente porcentaje:\n",
        "\n",
        "print(\"Porcentaje de variabilidad de la variable de salida explicado por las variables de entrada: %.1f%%, aproximadamente\" \n",
        "      % (100*miR2adjf))"
      ],
      "metadata": {
        "colab": {
          "base_uri": "https://localhost:8080/"
        },
        "id": "X4f5NvuN7JSr",
        "outputId": "1e1a449a-00a0-4553-ea62-314db71226ec"
      },
      "execution_count": 36,
      "outputs": [
        {
          "output_type": "stream",
          "name": "stdout",
          "text": [
            "Porcentaje de variabilidad de la variable de salida explicado por las variables de entrada: 64.0%, aproximadamente\n"
          ]
        }
      ]
    },
    {
      "cell_type": "code",
      "source": [
        "# La predicción del valor promedio de una casa obtenida con nuestro modelo final\n",
        "# tiene una variabilidad de error promedio en unidades monetarias dadas por RMSE:\n",
        "\n",
        "print(\"La variabilidad en el valor promedio de los precios de las casas es de aproximadamente $%.2f\" % RMSEtestf)"
      ],
      "metadata": {
        "colab": {
          "base_uri": "https://localhost:8080/"
        },
        "id": "_sxTadn47Paq",
        "outputId": "c5c11603-a4af-432d-fa6c-55f27332f25e"
      },
      "execution_count": 37,
      "outputs": [
        {
          "output_type": "stream",
          "name": "stdout",
          "text": [
            "La variabilidad en el valor promedio de los precios de las casas es de aproximadamente $67756.78\n"
          ]
        }
      ]
    },
    {
      "cell_type": "code",
      "source": [
        "# Entonces la diferencia en valor absoluto entre el error típico en las predicciones del modelo final generado\n",
        "# con el conjunto de prueba, con respecto al error típico obtenido con los datos de validación durante la etapa\n",
        "# de validación-cruzada es la siguiente :\n",
        "\n",
        "print(\"|RMSEtest - RMSEval| = $%.2f\" % (np.abs(RMSEtestf - np.mean(scoresRMSEVal))))"
      ],
      "metadata": {
        "colab": {
          "base_uri": "https://localhost:8080/"
        },
        "id": "qTUS1KUM7jL4",
        "outputId": "80c7672d-57c7-4d13-f93f-f965227cde19"
      },
      "execution_count": 38,
      "outputs": [
        {
          "output_type": "stream",
          "name": "stdout",
          "text": [
            "|RMSEtest - RMSEval| = $1288.81\n"
          ]
        }
      ]
    },
    {
      "cell_type": "code",
      "source": [
        "# Lo cual nos lleva al siguiente error absoluto porcentual entre el error típico de predicción del conjunto de prueba\n",
        "# y el conjunto de validación obtenido durante la etapa de entrenamiento en la validación-cruzada, de:\n",
        "\n",
        "print(\"Diferencia del error porcentual entre RMSEtest y RMSEval de aproximadamente %.1f%%\" % (100 * np.abs(RMSEtestf - np.mean(scoresRMSEVal)) / np.mean(scoresRMSEVal)))"
      ],
      "metadata": {
        "colab": {
          "base_uri": "https://localhost:8080/"
        },
        "id": "WAhB8WTI7p9K",
        "outputId": "959d0b8c-1058-40af-b063-b1e8dc0ddd0a"
      },
      "execution_count": 39,
      "outputs": [
        {
          "output_type": "stream",
          "name": "stdout",
          "text": [
            "Diferencia del error porcentual entre RMSEtest y RMSEval de aproximadamente 1.9%\n"
          ]
        }
      ]
    },
    {
      "cell_type": "code",
      "source": [
        "q3 = np.quantile(ytrain, 0.75)\n",
        "q1 = np.quantile(ytrain, 0.25)\n",
        "\n",
        "print(\"Rango intercuartil: IQR = Q3 - Q1 = $%.2f - $%.2f = $%.2f\" % (q3,q1,q3-q1))"
      ],
      "metadata": {
        "colab": {
          "base_uri": "https://localhost:8080/"
        },
        "id": "rTkzHwD_7w84",
        "outputId": "e1153b8c-fec5-433b-e40f-02677c6886ca"
      },
      "execution_count": 40,
      "outputs": [
        {
          "output_type": "stream",
          "name": "stdout",
          "text": [
            "Rango intercuartil: IQR = Q3 - Q1 = $265000.00 - $119400.00 = $145600.00\n"
          ]
        }
      ]
    },
    {
      "cell_type": "code",
      "source": [
        "print(2.1 * RMSEtestf)"
      ],
      "metadata": {
        "colab": {
          "base_uri": "https://localhost:8080/"
        },
        "id": "MRw5sqXq77Wn",
        "outputId": "d564dd93-6af4-4d83-ab64-b319be493bc4"
      },
      "execution_count": 41,
      "outputs": [
        {
          "output_type": "stream",
          "name": "stdout",
          "text": [
            "142289.24092440124\n"
          ]
        }
      ]
    },
    {
      "cell_type": "code",
      "source": [],
      "metadata": {
        "id": "NxERFiki8AIP"
      },
      "execution_count": null,
      "outputs": []
    }
  ]
}