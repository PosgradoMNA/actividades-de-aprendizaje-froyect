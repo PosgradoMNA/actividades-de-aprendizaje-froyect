{
  "nbformat": 4,
  "nbformat_minor": 0,
  "metadata": {
    "colab": {
      "provenance": [],
      "authorship_tag": "ABX9TyO7UPWRee0DZdSVKcE2yFP2",
      "include_colab_link": true
    },
    "kernelspec": {
      "name": "python3",
      "display_name": "Python 3"
    },
    "language_info": {
      "name": "python"
    }
  },
  "cells": [
    {
      "cell_type": "markdown",
      "metadata": {
        "id": "view-in-github",
        "colab_type": "text"
      },
      "source": [
        "<a href=\"https://colab.research.google.com/github/PosgradoMNA/actividades-de-aprendizaje-froyect/blob/main/function.ipynb\" target=\"_parent\"><img src=\"https://colab.research.google.com/assets/colab-badge.svg\" alt=\"Open In Colab\"/></a>"
      ]
    },
    {
      "cell_type": "code",
      "execution_count": 5,
      "metadata": {
        "colab": {
          "base_uri": "https://localhost:8080/"
        },
        "id": "TODv4v4rNn3w",
        "outputId": "4a2a500e-f6bf-4dff-9593-050a9f3426e3"
      },
      "outputs": [
        {
          "output_type": "stream",
          "name": "stdout",
          "text": [
            "El reultado es 10.0\n"
          ]
        }
      ],
      "source": [
        "def dividir (a,b):\n",
        "  c=a/b\n",
        "  #return c\n",
        "  print (\"El reultado es\", c)\n",
        "  \n",
        "\n",
        "dividir (50,5)"
      ]
    },
    {
      "cell_type": "code",
      "source": [],
      "metadata": {
        "id": "8Bek_52LRaQ3"
      },
      "execution_count": null,
      "outputs": []
    }
  ]
}