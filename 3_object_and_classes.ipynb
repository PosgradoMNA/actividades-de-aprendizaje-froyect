{
  "nbformat": 4,
  "nbformat_minor": 0,
  "metadata": {
    "colab": {
      "provenance": [],
      "authorship_tag": "ABX9TyN2d3jIFO0chbC91e/AvR3/",
      "include_colab_link": true
    },
    "kernelspec": {
      "name": "python3",
      "display_name": "Python 3"
    },
    "language_info": {
      "name": "python"
    }
  },
  "cells": [
    {
      "cell_type": "markdown",
      "metadata": {
        "id": "view-in-github",
        "colab_type": "text"
      },
      "source": [
        "<a href=\"https://colab.research.google.com/github/PosgradoMNA/actividades-de-aprendizaje-froyect/blob/main/3_object_and_classes.ipynb\" target=\"_parent\"><img src=\"https://colab.research.google.com/assets/colab-badge.svg\" alt=\"Open In Colab\"/></a>"
      ]
    },
    {
      "cell_type": "code",
      "execution_count": 2,
      "metadata": {
        "id": "4-w92meBZmp7"
      },
      "outputs": [],
      "source": [
        "class analysedText (object):\n",
        "  def __init__ (self, text):\n",
        "    formattedText = text.replace (\".\",\" \").replace(\"!\",\"\").replace(\"?\", \" \").replace(\",\", \" \")\n",
        "    formattedText = formattedText.lower()\n",
        "\n",
        "    self.fmtText = formattedText\n",
        "\n",
        "  def freq(self):\n",
        "    word_list = self.fmtText.split(\" \")\n",
        "\n",
        "    freqMap = {}\n",
        "    for word in set(word_list):\n",
        "      freqMap[word]= word_list.count(word)\n",
        "    \n",
        "    return freqMap\n",
        "  \n",
        "  def freqOf(self,word):\n",
        "    freqDict = self.freqAll()\n",
        "\n",
        "    if word in freqDict:\n",
        "      return freqDict[word]\n",
        "    else:\n",
        "      return 0\n",
        "\n"
      ]
    },
    {
      "cell_type": "code",
      "source": [],
      "metadata": {
        "id": "XO7LNel9ayv-"
      },
      "execution_count": null,
      "outputs": []
    }
  ]
}